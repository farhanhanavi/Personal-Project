{
 "cells": [
  {
   "cell_type": "code",
   "execution_count": 71,
   "metadata": {},
   "outputs": [],
   "source": [
    "import pandas as pd\n",
    "import re\n",
    "import matplotlib.pyplot as plt"
   ]
  },
  {
   "cell_type": "markdown",
   "metadata": {},
   "source": [
    "# Tokenizing the data"
   ]
  },
  {
   "cell_type": "code",
   "execution_count": 72,
   "metadata": {},
   "outputs": [],
   "source": [
    "def startsWithDate(s):\n",
    "    pattern = '([0-1][0-2]|[0-9])(\\/)([0-3][0-9]|[0-9])(\\/)(20)(\\,)([ ])([0-1][0-2]|[0-9])(\\:)([0-6][0-9])( )([a-zA-Z]{2})( \\-)'\n",
    "    result = re.match(pattern, s)\n",
    "    if result:\n",
    "        return True\n",
    "    return False"
   ]
  },
  {
   "cell_type": "code",
   "execution_count": 73,
   "metadata": {},
   "outputs": [],
   "source": [
    "def startsWithAuthor(s):\n",
    "    patterns = '([\\w]+: )|([\\w]+[\\s]+[\\w]+): '\n",
    "    result = re.match(patterns, s)\n",
    "    if result:\n",
    "        return True\n",
    "    return False"
   ]
  },
  {
   "cell_type": "code",
   "execution_count": 74,
   "metadata": {},
   "outputs": [],
   "source": [
    "def getDataPoint(line):\n",
    "    splitLine = line.split(' - ')   \n",
    "    dateTime = splitLine[0] \n",
    "    date, time = dateTime.split(', ') \n",
    "    message = ' '.join(splitLine[1:]) \n",
    "    \n",
    "    if startsWithAuthor(message): \n",
    "        splitMessage = message.split(': ') \n",
    "        author = splitMessage[0] \n",
    "        message = ' '.join(splitMessage[1:]) \n",
    "    else:\n",
    "        author = None\n",
    "    return date, time, author, message"
   ]
  },
  {
   "cell_type": "code",
   "execution_count": 75,
   "metadata": {},
   "outputs": [],
   "source": [
    "parsedData = [] \n",
    "conversationPath = '/users/farhan/downloads/WhatsApp Chat with Obama.txt' \n",
    "with open(conversationPath, encoding=\"utf-8\") as fp:\n",
    "    fp.readline()         \n",
    "    messageBuffer = []\n",
    "    date, time, author = None, None, None \n",
    "    \n",
    "    while True:\n",
    "        line = fp.readline() \n",
    "        if not line: # Stop reading further if end of file has been reached\n",
    "            break\n",
    "        line = line.strip() # Guarding against erroneous leading and trailing whitespaces\n",
    "        if startsWithDate(line): # If a line starts with a Date Time pattern, then this indicates the beginning of a new message\n",
    "            if len(messageBuffer) > 0: # Check if the message buffer contains characters from previous iterations\n",
    "                parsedData.append([date, time, author, ' '.join(messageBuffer)]) # Save the tokens from the previous message in parsedData\n",
    "            messageBuffer.clear() # Clear the message buffer so that it can be used for the next message\n",
    "            date, time, author, message = getDataPoint(line) # Identify and extract tokens from the line\n",
    "            messageBuffer.append(message) # Append message to buffer\n",
    "        else:\n",
    "            messageBuffer.append(line) # If a line doesn't start with a Date Time pattern, then it is part of a multi-line message. So, just append to buffer"
   ]
  },
  {
   "cell_type": "markdown",
   "metadata": {},
   "source": [
    "# Creating DF"
   ]
  },
  {
   "cell_type": "code",
   "execution_count": 85,
   "metadata": {},
   "outputs": [
    {
     "data": {
      "text/html": [
       "<div>\n",
       "<style scoped>\n",
       "    .dataframe tbody tr th:only-of-type {\n",
       "        vertical-align: middle;\n",
       "    }\n",
       "\n",
       "    .dataframe tbody tr th {\n",
       "        vertical-align: top;\n",
       "    }\n",
       "\n",
       "    .dataframe thead th {\n",
       "        text-align: right;\n",
       "    }\n",
       "</style>\n",
       "<table border=\"1\" class=\"dataframe\">\n",
       "  <thead>\n",
       "    <tr style=\"text-align: right;\">\n",
       "      <th></th>\n",
       "      <th>Date</th>\n",
       "      <th>Time</th>\n",
       "      <th>Author</th>\n",
       "      <th>Message</th>\n",
       "    </tr>\n",
       "  </thead>\n",
       "  <tbody>\n",
       "    <tr>\n",
       "      <th>4</th>\n",
       "      <td>2020-04-09</td>\n",
       "      <td>8:50 AM</td>\n",
       "      <td>Partner</td>\n",
       "      <td>Love you</td>\n",
       "    </tr>\n",
       "    <tr>\n",
       "      <th>5</th>\n",
       "      <td>2020-04-09</td>\n",
       "      <td>8:50 AM</td>\n",
       "      <td>Partner</td>\n",
       "      <td>Km sahur apaa?</td>\n",
       "    </tr>\n",
       "    <tr>\n",
       "      <th>6</th>\n",
       "      <td>2020-04-09</td>\n",
       "      <td>8:51 AM</td>\n",
       "      <td>Me</td>\n",
       "      <td>Ayam bakar tempe timun</td>\n",
       "    </tr>\n",
       "  </tbody>\n",
       "</table>\n",
       "</div>"
      ],
      "text/plain": [
       "        Date     Time   Author                 Message\n",
       "4 2020-04-09  8:50 AM  Partner                Love you\n",
       "5 2020-04-09  8:50 AM  Partner          Km sahur apaa?\n",
       "6 2020-04-09  8:51 AM       Me  Ayam bakar tempe timun"
      ]
     },
     "execution_count": 85,
     "metadata": {},
     "output_type": "execute_result"
    }
   ],
   "source": [
    "df = pd.DataFrame(parsedData, columns=['Date', 'Time', 'Author', 'Message'])\n",
    "df.iloc[4:7]"
   ]
  },
  {
   "cell_type": "markdown",
   "metadata": {},
   "source": [
    "# Dtype Cleaning"
   ]
  },
  {
   "cell_type": "code",
   "execution_count": 77,
   "metadata": {},
   "outputs": [],
   "source": [
    "# Converting date column to datetime\n",
    "df['Date'] = df['Date'].apply(pd.to_datetime)"
   ]
  },
  {
   "cell_type": "markdown",
   "metadata": {},
   "source": [
    "# ----------------------------"
   ]
  },
  {
   "cell_type": "markdown",
   "metadata": {},
   "source": [
    "# Exploratory Data Analysis"
   ]
  },
  {
   "cell_type": "markdown",
   "metadata": {},
   "source": [
    "# ----------------------------"
   ]
  },
  {
   "cell_type": "markdown",
   "metadata": {},
   "source": [
    "# Who talks the most"
   ]
  },
  {
   "cell_type": "code",
   "execution_count": 86,
   "metadata": {},
   "outputs": [
    {
     "data": {
      "text/plain": [
       "Me         22630\n",
       "Partner    17368\n",
       "Name: Author, dtype: int64"
      ]
     },
     "execution_count": 86,
     "metadata": {},
     "output_type": "execute_result"
    }
   ],
   "source": [
    "df['Author'].value_counts()"
   ]
  },
  {
   "cell_type": "code",
   "execution_count": 87,
   "metadata": {},
   "outputs": [
    {
     "data": {
      "image/png": "[encoded data removed]",
      "text/plain": [
       "<Figure size 432x288 with 1 Axes>"
      ]
     },
     "metadata": {
      "needs_background": "light"
     },
     "output_type": "display_data"
    }
   ],
   "source": [
    "df.groupby(pd.Grouper(key = 'Date', freq = 'M'))['Author'].value_counts().unstack().plot(kind='line')\n",
    "plt.title('Monthly Message Count')\n",
    "plt.show()"
   ]
  },
  {
   "cell_type": "markdown",
   "metadata": {},
   "source": [
    "# Who's Love Is Bigger"
   ]
  },
  {
   "cell_type": "code",
   "execution_count": 89,
   "metadata": {
    "scrolled": true
   },
   "outputs": [
    {
     "data": {
      "text/html": [
       "<div>\n",
       "<style scoped>\n",
       "    .dataframe tbody tr th:only-of-type {\n",
       "        vertical-align: middle;\n",
       "    }\n",
       "\n",
       "    .dataframe tbody tr th {\n",
       "        vertical-align: top;\n",
       "    }\n",
       "\n",
       "    .dataframe thead th {\n",
       "        text-align: right;\n",
       "    }\n",
       "</style>\n",
       "<table border=\"1\" class=\"dataframe\">\n",
       "  <thead>\n",
       "    <tr style=\"text-align: right;\">\n",
       "      <th></th>\n",
       "      <th>Me_Love_Count</th>\n",
       "      <th>P_Love_Count</th>\n",
       "    </tr>\n",
       "  </thead>\n",
       "  <tbody>\n",
       "    <tr>\n",
       "      <th>0</th>\n",
       "      <td>299</td>\n",
       "      <td>205</td>\n",
       "    </tr>\n",
       "  </tbody>\n",
       "</table>\n",
       "</div>"
      ],
      "text/plain": [
       "   Me_Love_Count  P_Love_Count\n",
       "0            299           205"
      ]
     },
     "execution_count": 89,
     "metadata": {},
     "output_type": "execute_result"
    }
   ],
   "source": [
    "love_f = []\n",
    "love_s = []\n",
    "love_word = ['Love','love','Luv','luv','Wuff','wuff']\n",
    "for i,v in df.iterrows():\n",
    "    if any(s in df.loc[i,'Message'] for s in (love_word)):\n",
    "        if df.loc[i,'Author'] == 'Partner':\n",
    "            x = df.loc[i,'Author']\n",
    "            love_s.append(x)\n",
    "        else:\n",
    "            y= df.loc[i,'Author']\n",
    "            love_f.append(y)\n",
    "    \n",
    "love_df = {'Me_Love_Count':len(love_f), 'P_Love_Count':len(love_s)}       \n",
    "love_df = pd.DataFrame(love_df, index = [0])\n",
    "love_df\n"
   ]
  },
  {
   "cell_type": "code",
   "execution_count": 90,
   "metadata": {
    "scrolled": true
   },
   "outputs": [
    {
     "data": {
      "image/png": "[encoded data removed]",
      "text/plain": [
       "<Figure size 432x288 with 1 Axes>"
      ]
     },
     "metadata": {
      "needs_background": "light"
     },
     "output_type": "display_data"
    }
   ],
   "source": [
    "df[df.Message.str.contains('Love|love|luv|Luv|wuff|Wuff')].groupby(pd.Grouper(key='Date', freq='M'))['Author'].value_counts().unstack().plot(kind='line')\n",
    "plt.xlabel('Date')\n",
    "plt.title('Monthly Love')\n",
    "plt.show()\n"
   ]
  },
  {
   "cell_type": "code",
   "execution_count": null,
   "metadata": {},
   "outputs": [],
   "source": []
  }
 ],
 "metadata": {
  "kernelspec": {
   "display_name": "Python 3",
   "language": "python",
   "name": "python3"
  },
  "language_info": {
   "codemirror_mode": {
    "name": "ipython",
    "version": 3
   },
   "file_extension": ".py",
   "mimetype": "text/x-python",
   "name": "python",
   "nbconvert_exporter": "python",
   "pygments_lexer": "ipython3",
   "version": "3.7.7"
  }
 },
 "nbformat": 4,
 "nbformat_minor": 4
}
